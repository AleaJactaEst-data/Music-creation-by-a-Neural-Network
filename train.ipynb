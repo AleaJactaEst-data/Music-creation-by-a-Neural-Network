{
 "cells": [
  {
   "cell_type": "code",
   "execution_count": 12,
   "metadata": {},
   "outputs": [
    {
     "name": "stdout",
     "output_type": "stream",
     "text": [
      "Keras Version: 2.7.0\n"
     ]
    }
   ],
   "source": [
    "import sys, random, os\n",
    "import numpy as np\n",
    "from matplotlib import pyplot as plt\n",
    "import pydot\n",
    "import cv2\n",
    "import util\n",
    "import midi\n",
    "\n",
    "\n",
    "import keras\n",
    "print(\"Keras Version: \" + keras.__version__)\n",
    "from keras.layers import Input, Dense, Activation, Dropout, Flatten, Reshape, Permute, RepeatVector, ActivityRegularization, TimeDistributed, Lambda, SpatialDropout1D\n",
    "from keras.layers.convolutional import Conv1D, Conv2D, Conv2DTranspose, UpSampling2D, ZeroPadding2D\n",
    "from keras.layers.embeddings import Embedding\n",
    "from keras.layers.local import LocallyConnected2D\n",
    "from keras.layers.pooling import MaxPooling2D, AveragePooling2D\n",
    "from keras.layers.noise import GaussianNoise\n",
    "from tensorflow.keras.layers import BatchNormalization\n",
    "from keras.layers.recurrent import LSTM, SimpleRNN\n",
    "from keras.initializers import RandomNormal\n",
    "from keras.losses import binary_crossentropy\n",
    "from keras.models import Model, Sequential, load_model\n",
    "from tensorflow.keras.optimizers import Adam, RMSprop, SGD\n",
    "from keras.preprocessing.image import ImageDataGenerator\n",
    "from keras.regularizers import l2\n",
    "from keras.utils.vis_utils import plot_model\n",
    "from keras import backend as K\n",
    "from keras import regularizers\n",
    "from tensorflow.keras.layers import Layer, InputSpec"
   ]
  },
  {
   "cell_type": "code",
   "execution_count": null,
   "metadata": {},
   "outputs": [],
   "source": [
    "x_in = Input(shape=x_shape[1:])\n",
    "x = Embedding(x_train.shape[0], PARAM_SIZE, input_length=1)(x_in)\n",
    "x = Flatten(name='pre_encoder')(x)\n",
    "\n",
    "z_mean = Dense(PARAM_SIZE)(x)\n",
    "z_log_sigma_sq = Dense(PARAM_SIZE)(x)\n",
    "x = Lambda(vae_sampling, output_shape=(PARAM_SIZE,), name='pre_encoder')([z_mean, z_log_sigma_sq])"
   ]
  },
  {
   "cell_type": "code",
   "execution_count": null,
   "metadata": {},
   "outputs": [],
   "source": [
    "x = Dense(1600, name='encoder')(x)\n",
    "x = BatchNormalization(momentum=BN_M)(x)\n",
    "x = Activation('relu')(x)\n",
    "x = Dropout(DO_RATE)(x)\n",
    "\n",
    "x = Dense(MAX_LENGTH * 200)(x)\n",
    "print K.int_shape(x)\n",
    "x = Reshape((MAX_LENGTH, 200))(x)\n",
    "x = TimeDistributed(BatchNormalization(momentum=BN_M))(x)\n",
    "x = Activation('relu')(x)\n",
    "x = Dropout(DO_RATE)(x)\n",
    "\n",
    "x = TimeDistributed(Dense(2000))(x)\n",
    "x = TimeDistributed(BatchNormalization(momentum=BN_M))(x)\n",
    "x = Activation('relu')(x)\n",
    "x = Dropout(DO_RATE)(x)\n",
    "print K.int_shape(x)\n",
    "\n",
    "x = TimeDistributed(Dense(y_shape[2] * y_shape[3], activation='sigmoid'))(x)\n",
    "x = Reshape((y_shape[1], y_shape[2], y_shape[3]))(x)\n",
    "\n",
    "model = Model(x_in, x)\n",
    "model.compile(optimizer=Adam(lr=LR), loss=vae_loss)"
   ]
  }
 ],
 "metadata": {
  "interpreter": {
   "hash": "964f4ff9e0530aa849b8b32a1b81d59a958a284a7c784423a1e902643155004a"
  },
  "kernelspec": {
   "display_name": "Python 3.8.12 64-bit (conda)",
   "language": "python",
   "name": "python3"
  },
  "language_info": {
   "codemirror_mode": {
    "name": "ipython",
    "version": 3
   },
   "file_extension": ".py",
   "mimetype": "text/x-python",
   "name": "python",
   "nbconvert_exporter": "python",
   "pygments_lexer": "ipython3",
   "version": "3.8.12"
  },
  "orig_nbformat": 4
 },
 "nbformat": 4,
 "nbformat_minor": 2
}
