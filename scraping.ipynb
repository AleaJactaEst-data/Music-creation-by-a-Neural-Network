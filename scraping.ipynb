{
 "cells": [
  {
   "cell_type": "code",
   "execution_count": 13,
   "metadata": {},
   "outputs": [],
   "source": [
    "def printProgressBar (iteration, total, prefix = '', suffix = '', decimals = 1, length = 100, fill = '█', printEnd = \"\\r\"):\n",
    "    \"\"\"\n",
    "    Call in a loop to create terminal progress bar\n",
    "    @params:\n",
    "        iteration   - Required  : current iteration (Int)\n",
    "        total       - Required  : total iterations (Int)\n",
    "        prefix      - Optional  : prefix string (Str)\n",
    "        suffix      - Optional  : suffix string (Str)\n",
    "        decimals    - Optional  : positive number of decimals in percent complete (Int)\n",
    "        length      - Optional  : character length of bar (Int)\n",
    "        fill        - Optional  : bar fill character (Str)\n",
    "        printEnd    - Optional  : end character (e.g. \"\\r\", \"\\r\\n\") (Str)\n",
    "    \"\"\"\n",
    "    percent = (\"{0:.\" + str(decimals) + \"f}\").format(100 * (iteration / float(total)))\n",
    "    filledLength = int(length * iteration // total)\n",
    "    bar = fill * filledLength + '-' * (length - filledLength)\n",
    "    print(f'\\r{prefix} |{bar}| {percent}% {suffix}', end = printEnd)\n",
    "    # Print New Line on Complete\n",
    "    if iteration == total: \n",
    "        print()"
   ]
  },
  {
   "cell_type": "code",
   "execution_count": 14,
   "metadata": {},
   "outputs": [
    {
     "name": "stdout",
     "output_type": "stream",
     "text": [
      "['https://www.vgmusic.com/new-files/index.php?page=1&s1=date&sd1=1', 'https://www.vgmusic.com/new-files/index.php?page=2&s1=date&sd1=1', 'https://www.vgmusic.com/new-files/index.php?page=3&s1=date&sd1=1', 'https://www.vgmusic.com/new-files/index.php?page=4&s1=date&sd1=1', 'https://www.vgmusic.com/new-files/index.php?page=5&s1=date&sd1=1', 'https://www.vgmusic.com/new-files/index.php?page=6&s1=date&sd1=1', 'https://www.vgmusic.com/new-files/index.php?page=7&s1=date&sd1=1', 'https://www.vgmusic.com/new-files/index.php?page=8&s1=date&sd1=1', 'https://www.vgmusic.com/new-files/index.php?page=9&s1=date&sd1=1', 'https://www.vgmusic.com/new-files/index.php?page=10&s1=date&sd1=1', 'https://www.vgmusic.com/new-files/index.php?page=11&s1=date&sd1=1', 'https://www.vgmusic.com/new-files/index.php?page=12&s1=date&sd1=1', 'https://www.vgmusic.com/new-files/index.php?page=13&s1=date&sd1=1', 'https://www.vgmusic.com/new-files/index.php?page=14&s1=date&sd1=1', 'https://www.vgmusic.com/new-files/index.php?page=15&s1=date&sd1=1', 'https://www.vgmusic.com/new-files/index.php?page=16&s1=date&sd1=1', 'https://www.vgmusic.com/new-files/index.php?page=17&s1=date&sd1=1', 'https://www.vgmusic.com/new-files/index.php?page=18&s1=date&sd1=1', 'https://www.vgmusic.com/new-files/index.php?page=19&s1=date&sd1=1', 'https://www.vgmusic.com/new-files/index.php?page=20&s1=date&sd1=1', 'https://www.vgmusic.com/new-files/index.php?page=21&s1=date&sd1=1', 'https://www.vgmusic.com/new-files/index.php?page=22&s1=date&sd1=1', 'https://www.vgmusic.com/new-files/index.php?page=23&s1=date&sd1=1', 'https://www.vgmusic.com/new-files/index.php?page=24&s1=date&sd1=1', 'https://www.vgmusic.com/new-files/index.php?page=25&s1=date&sd1=1', 'https://www.vgmusic.com/new-files/index.php?page=26&s1=date&sd1=1', 'https://www.vgmusic.com/new-files/index.php?page=27&s1=date&sd1=1', 'https://www.vgmusic.com/new-files/index.php?page=28&s1=date&sd1=1', 'https://www.vgmusic.com/new-files/index.php?page=29&s1=date&sd1=1', 'https://www.vgmusic.com/new-files/index.php?page=30&s1=date&sd1=1', 'https://www.vgmusic.com/new-files/index.php?page=31&s1=date&sd1=1', 'https://www.vgmusic.com/new-files/index.php?page=32&s1=date&sd1=1', 'https://www.vgmusic.com/new-files/index.php?page=33&s1=date&sd1=1', 'https://www.vgmusic.com/new-files/index.php?page=34&s1=date&sd1=1', 'https://www.vgmusic.com/new-files/index.php?page=35&s1=date&sd1=1', 'https://www.vgmusic.com/new-files/index.php?page=36&s1=date&sd1=1', 'https://www.vgmusic.com/new-files/index.php?page=37&s1=date&sd1=1', 'https://www.vgmusic.com/new-files/index.php?page=38&s1=date&sd1=1', 'https://www.vgmusic.com/new-files/index.php?page=39&s1=date&sd1=1', 'https://www.vgmusic.com/new-files/index.php?page=40&s1=date&sd1=1', 'https://www.vgmusic.com/new-files/index.php?page=41&s1=date&sd1=1', 'https://www.vgmusic.com/new-files/index.php?page=42&s1=date&sd1=1', 'https://www.vgmusic.com/new-files/index.php?page=43&s1=date&sd1=1', 'https://www.vgmusic.com/new-files/index.php?page=44&s1=date&sd1=1', 'https://www.vgmusic.com/new-files/index.php?page=45&s1=date&sd1=1', 'https://www.vgmusic.com/new-files/index.php?page=46&s1=date&sd1=1', 'https://www.vgmusic.com/new-files/index.php?page=47&s1=date&sd1=1', 'https://www.vgmusic.com/new-files/index.php?page=48&s1=date&sd1=1', 'https://www.vgmusic.com/new-files/index.php?page=49&s1=date&sd1=1']\n"
     ]
    }
   ],
   "source": [
    "import requests\n",
    "from bs4 import BeautifulSoup\n",
    "import io\n",
    "\n",
    "#url = \"http://www.vgmusic.com/new-files/\" \n",
    "list_of_urls = ['https://www.vgmusic.com/new-files/index.php?page=' + str(i) +'&s1=date&sd1=1' for i in range(1,50)]\n",
    "\n",
    "print(list_of_urls)"
   ]
  },
  {
   "cell_type": "code",
   "execution_count": 15,
   "metadata": {},
   "outputs": [],
   "source": [
    "def get_url_to_download(list_of_mid, url_to_scrap):\n",
    "    read = requests.get(url_to_scrap)\n",
    "    html_content = read.content\n",
    "    soup = BeautifulSoup(html_content, \"html.parser\")\n",
    "\n",
    "    l = soup.find_all('a')\n",
    "\n",
    "    iter = 0\n",
    "\n",
    "    for link in l:\n",
    "        if '.mid' in link.get('href') :\n",
    "            \n",
    "            list_of_mid.append(link.get('href'))\n",
    "            \n",
    "        iter += 1\n",
    "            \n",
    "    pass"
   ]
  },
  {
   "cell_type": "code",
   "execution_count": 16,
   "metadata": {},
   "outputs": [],
   "source": [
    "def download_mid(mid_path):\n",
    "    url = \"https://vgmusic.com/\"\n",
    "    mid_link = requests.get(url + mid_path)\n",
    "    file_name = mid_path[11:]\n",
    "    #print(url + mid_path)\n",
    "    #print(mid_link.content)\n",
    "    #open('C:/Users/jacta/Desktop/Composer-master/data/raw/'+file_name, 'wb').write(mid_link.content)\n",
    "    \n",
    "    return file_name"
   ]
  },
  {
   "cell_type": "code",
   "execution_count": 22,
   "metadata": {},
   "outputs": [
    {
     "name": "stdout",
     "output_type": "stream",
     "text": [
      "Complete - Scraping https://www.vgmusic.com/new-files/index.php?page=1&s1=date&sd1=1\n",
      "Complete - Scraping https://www.vgmusic.com/new-files/index.php?page=2&s1=date&sd1=1ing https://www.vgmusic.com/new-files/index.php?page=1&s1=date&sd1=1\n",
      "Complete - Scraping https://www.vgmusic.com/new-files/index.php?page=3&s1=date&sd1=1ing https://www.vgmusic.com/new-files/index.php?page=2&s1=date&sd1=1\n",
      "Complete - Scraping https://www.vgmusic.com/new-files/index.php?page=4&s1=date&sd1=1ing https://www.vgmusic.com/new-files/index.php?page=3&s1=date&sd1=1\n",
      "Complete - Scraping https://www.vgmusic.com/new-files/index.php?page=5&s1=date&sd1=1ing https://www.vgmusic.com/new-files/index.php?page=4&s1=date&sd1=1\n",
      "Complete - Scraping https://www.vgmusic.com/new-files/index.php?page=6&s1=date&sd1=1ping https://www.vgmusic.com/new-files/index.php?page=5&s1=date&sd1=1\n",
      "Complete - Scraping https://www.vgmusic.com/new-files/index.php?page=7&s1=date&sd1=1ping https://www.vgmusic.com/new-files/index.php?page=6&s1=date&sd1=1\n",
      "Complete - Scraping https://www.vgmusic.com/new-files/index.php?page=8&s1=date&sd1=1ping https://www.vgmusic.com/new-files/index.php?page=7&s1=date&sd1=1\n",
      "Complete - Scraping https://www.vgmusic.com/new-files/index.php?page=9&s1=date&sd1=1ping https://www.vgmusic.com/new-files/index.php?page=8&s1=date&sd1=1\n",
      "Complete - Scraping https://www.vgmusic.com/new-files/index.php?page=10&s1=date&sd1=1ing https://www.vgmusic.com/new-files/index.php?page=9&s1=date&sd1=1\n",
      "Complete - Scraping https://www.vgmusic.com/new-files/index.php?page=11&s1=date&sd1=1ing https://www.vgmusic.com/new-files/index.php?page=10&s1=date&sd1=1\n",
      "Complete - Scraping https://www.vgmusic.com/new-files/index.php?page=12&s1=date&sd1=1ing https://www.vgmusic.com/new-files/index.php?page=11&s1=date&sd1=1\n",
      "Complete - Scraping https://www.vgmusic.com/new-files/index.php?page=13&s1=date&sd1=1ing https://www.vgmusic.com/new-files/index.php?page=12&s1=date&sd1=1\n",
      "Complete - Scraping https://www.vgmusic.com/new-files/index.php?page=14&s1=date&sd1=1ing https://www.vgmusic.com/new-files/index.php?page=13&s1=date&sd1=1\n",
      "Complete - Scraping https://www.vgmusic.com/new-files/index.php?page=15&s1=date&sd1=1ing https://www.vgmusic.com/new-files/index.php?page=14&s1=date&sd1=1\n",
      "Complete - Scraping https://www.vgmusic.com/new-files/index.php?page=16&s1=date&sd1=1ing https://www.vgmusic.com/new-files/index.php?page=15&s1=date&sd1=1\n",
      "Complete - Scraping https://www.vgmusic.com/new-files/index.php?page=17&s1=date&sd1=1ing https://www.vgmusic.com/new-files/index.php?page=16&s1=date&sd1=1\n",
      "Complete - Scraping https://www.vgmusic.com/new-files/index.php?page=18&s1=date&sd1=1ing https://www.vgmusic.com/new-files/index.php?page=17&s1=date&sd1=1\n",
      "Complete - Scraping https://www.vgmusic.com/new-files/index.php?page=19&s1=date&sd1=1ing https://www.vgmusic.com/new-files/index.php?page=18&s1=date&sd1=1\n",
      "Complete - Scraping https://www.vgmusic.com/new-files/index.php?page=20&s1=date&sd1=1ing https://www.vgmusic.com/new-files/index.php?page=19&s1=date&sd1=1\n",
      "Complete - Scraping https://www.vgmusic.com/new-files/index.php?page=21&s1=date&sd1=1ing https://www.vgmusic.com/new-files/index.php?page=20&s1=date&sd1=1\n",
      "Complete - Scraping https://www.vgmusic.com/new-files/index.php?page=22&s1=date&sd1=1ing https://www.vgmusic.com/new-files/index.php?page=21&s1=date&sd1=1\n",
      "Complete - Scraping https://www.vgmusic.com/new-files/index.php?page=23&s1=date&sd1=1ing https://www.vgmusic.com/new-files/index.php?page=22&s1=date&sd1=1\n",
      "Complete - Scraping https://www.vgmusic.com/new-files/index.php?page=24&s1=date&sd1=1ing https://www.vgmusic.com/new-files/index.php?page=23&s1=date&sd1=1\n",
      "Complete - Scraping https://www.vgmusic.com/new-files/index.php?page=25&s1=date&sd1=1ing https://www.vgmusic.com/new-files/index.php?page=24&s1=date&sd1=1\n",
      "Complete - Scraping https://www.vgmusic.com/new-files/index.php?page=26&s1=date&sd1=1ing https://www.vgmusic.com/new-files/index.php?page=25&s1=date&sd1=1\n",
      "Complete - Scraping https://www.vgmusic.com/new-files/index.php?page=27&s1=date&sd1=1ing https://www.vgmusic.com/new-files/index.php?page=26&s1=date&sd1=1\n",
      "Complete - Scraping https://www.vgmusic.com/new-files/index.php?page=28&s1=date&sd1=1ing https://www.vgmusic.com/new-files/index.php?page=27&s1=date&sd1=1\n",
      "Complete - Scraping https://www.vgmusic.com/new-files/index.php?page=29&s1=date&sd1=1ing https://www.vgmusic.com/new-files/index.php?page=28&s1=date&sd1=1\n",
      "Complete - Scraping https://www.vgmusic.com/new-files/index.php?page=30&s1=date&sd1=1ing https://www.vgmusic.com/new-files/index.php?page=29&s1=date&sd1=1\n",
      "Complete - Scraping https://www.vgmusic.com/new-files/index.php?page=31&s1=date&sd1=1ing https://www.vgmusic.com/new-files/index.php?page=30&s1=date&sd1=1\n",
      "Complete - Scraping https://www.vgmusic.com/new-files/index.php?page=32&s1=date&sd1=1ing https://www.vgmusic.com/new-files/index.php?page=31&s1=date&sd1=1\n",
      "Complete - Scraping https://www.vgmusic.com/new-files/index.php?page=33&s1=date&sd1=1ing https://www.vgmusic.com/new-files/index.php?page=32&s1=date&sd1=1\n",
      "Complete - Scraping https://www.vgmusic.com/new-files/index.php?page=34&s1=date&sd1=1ing https://www.vgmusic.com/new-files/index.php?page=33&s1=date&sd1=1\n",
      "Complete - Scraping https://www.vgmusic.com/new-files/index.php?page=35&s1=date&sd1=1ing https://www.vgmusic.com/new-files/index.php?page=34&s1=date&sd1=1\n",
      "Complete - Scraping https://www.vgmusic.com/new-files/index.php?page=36&s1=date&sd1=1ing https://www.vgmusic.com/new-files/index.php?page=35&s1=date&sd1=1\n",
      "Complete - Scraping https://www.vgmusic.com/new-files/index.php?page=37&s1=date&sd1=1ing https://www.vgmusic.com/new-files/index.php?page=36&s1=date&sd1=1\n",
      "Complete - Scraping https://www.vgmusic.com/new-files/index.php?page=38&s1=date&sd1=1ing https://www.vgmusic.com/new-files/index.php?page=37&s1=date&sd1=1\n",
      "Complete - Scraping https://www.vgmusic.com/new-files/index.php?page=39&s1=date&sd1=1ing https://www.vgmusic.com/new-files/index.php?page=38&s1=date&sd1=1\n",
      "Complete - Scraping https://www.vgmusic.com/new-files/index.php?page=40&s1=date&sd1=1ing https://www.vgmusic.com/new-files/index.php?page=39&s1=date&sd1=1\n",
      "Complete - Scraping https://www.vgmusic.com/new-files/index.php?page=41&s1=date&sd1=1ing https://www.vgmusic.com/new-files/index.php?page=40&s1=date&sd1=1\n",
      "Complete - Scraping https://www.vgmusic.com/new-files/index.php?page=42&s1=date&sd1=1ing https://www.vgmusic.com/new-files/index.php?page=41&s1=date&sd1=1\n",
      "Complete - Scraping https://www.vgmusic.com/new-files/index.php?page=43&s1=date&sd1=1ing https://www.vgmusic.com/new-files/index.php?page=42&s1=date&sd1=1\n",
      "Complete - Scraping https://www.vgmusic.com/new-files/index.php?page=44&s1=date&sd1=1ing https://www.vgmusic.com/new-files/index.php?page=43&s1=date&sd1=1\n",
      "Complete - Scraping https://www.vgmusic.com/new-files/index.php?page=45&s1=date&sd1=1ing https://www.vgmusic.com/new-files/index.php?page=44&s1=date&sd1=1\n",
      "Complete - Scraping https://www.vgmusic.com/new-files/index.php?page=46&s1=date&sd1=1ing https://www.vgmusic.com/new-files/index.php?page=45&s1=date&sd1=1\n",
      "Complete - Scraping https://www.vgmusic.com/new-files/index.php?page=47&s1=date&sd1=1ing https://www.vgmusic.com/new-files/index.php?page=46&s1=date&sd1=1\n",
      "Complete - Scraping https://www.vgmusic.com/new-files/index.php?page=48&s1=date&sd1=1ing https://www.vgmusic.com/new-files/index.php?page=47&s1=date&sd1=1\n",
      "Complete - Scraping https://www.vgmusic.com/new-files/index.php?page=49&s1=date&sd1=1ing https://www.vgmusic.com/new-files/index.php?page=48&s1=date&sd1=1\n",
      "Progress: |██████████████████████████████████████████████████| 100.0% Complete - Scraping https://www.vgmusic.com/new-files/index.php?page=49&s1=date&sd1=1\n",
      "Number of mid to download : 4900\n",
      "Downloading the midi files\n",
      "Progress: |█-------------------------------------------------| 3.2% Complete - New_York_Cruise.midonships_2010-_Reverse_of_Arcadia_Menu_Theme.midx_by_sb.mid\r"
     ]
    }
   ],
   "source": [
    "list_of_mid = []\n",
    "\n",
    "iter = 0\n",
    "\n",
    "for url in list_of_urls:\n",
    "    n_str = str('Complete - Scraping '+url)\n",
    "    print(n_str)\n",
    "    printProgressBar(iter+1, len(list_of_urls), prefix='Progress:', suffix=n_str, length = 50)\n",
    "    get_url_to_download(list_of_mid, url)\n",
    "    \n",
    "    iter+=1\n",
    "\n",
    "\n",
    "print(\"Number of mid to download : \" + str(len(list_of_mid)))\n",
    "\n",
    "print(\"Downloading the midi files\")\n",
    "for i in range(len(list_of_mid)) :\n",
    "    \n",
    "    \n",
    "    #print('|'+'#'*int(i/len(list_of_mid)*100)+ ' ' * int((1-i/len(list_of_mid))*100) + '|' + str(i/len(list_of_mid)*100) + '%')\n",
    "    file_name = download_mid(list_of_mid[i])\n",
    "    printProgressBar(i+1, len(list_of_mid), prefix = 'Progress:', suffix = 'Complete - ' + file_name, length = 50)\n"
   ]
  }
 ],
 "metadata": {
  "interpreter": {
   "hash": "964f4ff9e0530aa849b8b32a1b81d59a958a284a7c784423a1e902643155004a"
  },
  "kernelspec": {
   "display_name": "Python 3.8.12 64-bit (conda)",
   "language": "python",
   "name": "python3"
  },
  "language_info": {
   "codemirror_mode": {
    "name": "ipython",
    "version": 3
   },
   "file_extension": ".py",
   "mimetype": "text/x-python",
   "name": "python",
   "nbconvert_exporter": "python",
   "pygments_lexer": "ipython3",
   "version": "3.8.12"
  },
  "orig_nbformat": 4
 },
 "nbformat": 4,
 "nbformat_minor": 2
}
